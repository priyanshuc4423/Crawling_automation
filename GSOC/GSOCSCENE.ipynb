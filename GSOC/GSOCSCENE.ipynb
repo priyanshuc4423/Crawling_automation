{
  "nbformat": 4,
  "nbformat_minor": 0,
  "metadata": {
    "colab": {
      "name": "GSOCSCENE.ipynb",
      "private_outputs": true,
      "provenance": [],
      "authorship_tag": "ABX9TyPSNdkLBnRxoocItO/Adj7o",
      "include_colab_link": true
    },
    "kernelspec": {
      "name": "python3",
      "display_name": "Python 3"
    },
    "language_info": {
      "name": "python"
    }
  },
  "cells": [
    {
      "cell_type": "markdown",
      "metadata": {
        "id": "view-in-github",
        "colab_type": "text"
      },
      "source": [
        "<a href=\"https://colab.research.google.com/github/priyanshuc4423/Crawling_automation/blob/main/GSOC/GSOCSCENE.ipynb\" target=\"_parent\"><img src=\"https://colab.research.google.com/assets/colab-badge.svg\" alt=\"Open In Colab\"/></a>"
      ]
    },
    {
      "cell_type": "code",
      "execution_count": null,
      "metadata": {
        "id": "ugpbD9bSpQIt"
      },
      "outputs": [],
      "source": [
        "import requests\n",
        "from bs4 import BeautifulSoup"
      ]
    },
    {
      "cell_type": "code",
      "source": [
        "response = requests.get('https://summerofcode.withgoogle.com/archive/2021/organizations');"
      ],
      "metadata": {
        "id": "gwH-hePhpTTp"
      },
      "execution_count": null,
      "outputs": []
    },
    {
      "cell_type": "code",
      "source": [
        "soup = BeautifulSoup(response.text,'html.parser')"
      ],
      "metadata": {
        "id": "_wQ4lESbpW-1"
      },
      "execution_count": null,
      "outputs": []
    },
    {
      "cell_type": "code",
      "source": [
        "soup.title"
      ],
      "metadata": {
        "id": "1ntR6NeHpmCv"
      },
      "execution_count": null,
      "outputs": []
    },
    {
      "cell_type": "code",
      "source": [
        "!pip install selenium"
      ],
      "metadata": {
        "id": "_OfJThDUpnqU"
      },
      "execution_count": null,
      "outputs": []
    },
    {
      "cell_type": "code",
      "source": [
        "!apt install chromium-chromedriver"
      ],
      "metadata": {
        "id": "b-LK8f6LqfUT"
      },
      "execution_count": null,
      "outputs": []
    },
    {
      "cell_type": "code",
      "source": [
        "!apt-get update"
      ],
      "metadata": {
        "id": "_QUqqfcBq1cH"
      },
      "execution_count": null,
      "outputs": []
    },
    {
      "cell_type": "code",
      "source": [
        "!cp/usr/lib/chromium-browser/chromedriver/usr/bin"
      ],
      "metadata": {
        "id": "9z4cRYDUsA-w"
      },
      "execution_count": null,
      "outputs": []
    },
    {
      "cell_type": "code",
      "source": [
        "from selenium import webdriver\n",
        "import sys\n",
        "\n",
        "sys.path.insert(0,'/usr/lib/chromium-browser/chromedriver')\n",
        "chrome_options = webdriver.ChromeOptions()\n",
        "\n",
        "chrome_options.add_argument('---headless')\n",
        "chrome_options.add_argument('--no-sandbox')\n",
        "\n",
        "driver = webdriver.Chrome('chromedriver',chrome_options=chrome_options)"
      ],
      "metadata": {
        "id": "3Q9yIuJXq5Qx"
      },
      "execution_count": null,
      "outputs": []
    },
    {
      "cell_type": "code",
      "source": [
        "import time\n",
        "driver.get('https://summerofcode.withgoogle.com/archive/2021/organizations')\n",
        "time.sleep(2)"
      ],
      "metadata": {
        "id": "buprJZm3sqEa"
      },
      "execution_count": null,
      "outputs": []
    },
    {
      "cell_type": "code",
      "source": [
        "page = driver.page_source"
      ],
      "metadata": {
        "id": "rWlM9g9atHLM"
      },
      "execution_count": null,
      "outputs": []
    },
    {
      "cell_type": "code",
      "source": [
        "soup = BeautifulSoup(page,'html.parser')"
      ],
      "metadata": {
        "id": "DNBAH9kKtng7"
      },
      "execution_count": null,
      "outputs": []
    },
    {
      "cell_type": "code",
      "source": [
        "content = soup.find_all('div',class_='grid__row__item grid__row__item--span6@md grid__row__item--span4@xlg ng-star-inserted')"
      ],
      "metadata": {
        "id": "brr5NS-ptsPs"
      },
      "execution_count": null,
      "outputs": []
    },
    {
      "cell_type": "code",
      "source": [
        "content"
      ],
      "metadata": {
        "id": "EJi-9CipuHtb"
      },
      "execution_count": null,
      "outputs": []
    },
    {
      "cell_type": "code",
      "source": [
        "name = content[0].find('div',class_='name')"
      ],
      "metadata": {
        "id": "RrFmu3-luK0K"
      },
      "execution_count": null,
      "outputs": []
    },
    {
      "cell_type": "code",
      "source": [
        "name.text\n",
        "link = []"
      ],
      "metadata": {
        "id": "g_xIR9OqudRc"
      },
      "execution_count": null,
      "outputs": []
    },
    {
      "cell_type": "code",
      "source": [
        "for co in content:\n",
        "  new_link = 'https://summerofcode.withgoogle.com'+co.find('a',class_ ='content')['href']\n",
        "  link.append(new_link)\n"
      ],
      "metadata": {
        "id": "CkWdP-DzueM9"
      },
      "execution_count": null,
      "outputs": []
    },
    {
      "cell_type": "code",
      "source": [
        "link"
      ],
      "metadata": {
        "id": "QK22y5pJvR2n"
      },
      "execution_count": null,
      "outputs": []
    },
    {
      "cell_type": "code",
      "source": [
        "org_name = []\n",
        "tech_used = []\n",
        "topic_used = []\n",
        "topics = []\n",
        "contributor = []\n",
        "contributor_number = []\n",
        "tech = []\n",
        "for li in link:\n",
        "  page = driver.get(li)\n",
        "  time.sleep(2)\n",
        "  page = driver.page_source\n",
        "  org_soup = BeautifulSoup(page,'html.parser')\n",
        "  tech = org_soup.find(\"div\", class_=\"tech__content\")\n",
        "  tech_used.append(tech.text.split(\", \"))\n",
        "  topics = org_soup.find(\"div\",class_='topics__content')\n",
        "  topic_used.append(topics.text.split(\",\"))\n",
        "  contributor = org_soup.find_all('div',class_='contributor__content')\n",
        "  contributor_number.append(len(contributor))\n",
        "  org_name.append(org_soup.find('span',class_='title').text)\n"
      ],
      "metadata": {
        "id": "zXxH3_6_vUjT"
      },
      "execution_count": null,
      "outputs": []
    },
    {
      "cell_type": "code",
      "source": [
        "dict = {'name':org_name,'topics':topic_used,'tech':tech_used,'contributornumber':contributor_number}"
      ],
      "metadata": {
        "id": "-AqVA-4b-eYy"
      },
      "execution_count": null,
      "outputs": []
    },
    {
      "cell_type": "code",
      "source": [
        "dict"
      ],
      "metadata": {
        "id": "gQhTxfJHGXxJ"
      },
      "execution_count": null,
      "outputs": []
    },
    {
      "cell_type": "code",
      "source": [
        "import pandas as pd\n",
        "gsocdata = pd.DataFrame(dict)"
      ],
      "metadata": {
        "id": "Hr8nTGd6_iMI"
      },
      "execution_count": null,
      "outputs": []
    },
    {
      "cell_type": "code",
      "source": [
        "gsocdata.info()"
      ],
      "metadata": {
        "id": "PvD0N5Xm_s9p"
      },
      "execution_count": null,
      "outputs": []
    },
    {
      "cell_type": "code",
      "source": [
        "gsocdata.head()"
      ],
      "metadata": {
        "id": "Zs1ZcYI1_v3v"
      },
      "execution_count": null,
      "outputs": []
    },
    {
      "cell_type": "code",
      "source": [
        "import matplotlib.pyplot as plt\n"
      ],
      "metadata": {
        "id": "aDwP1DQC_3Xn"
      },
      "execution_count": null,
      "outputs": []
    },
    {
      "cell_type": "code",
      "source": [
        "plt.bar(gsocdata['name'],gsocdata['contributornumber'])"
      ],
      "metadata": {
        "id": "wbSArWX7B5s9"
      },
      "execution_count": null,
      "outputs": []
    },
    {
      "cell_type": "code",
      "source": [
        "import plotly.express as px"
      ],
      "metadata": {
        "id": "5CDp17M3CN-k"
      },
      "execution_count": null,
      "outputs": []
    },
    {
      "cell_type": "code",
      "source": [
        "fig = px.bar(gsocdata,x='name',y='contributornumber')\n",
        "fig.show()"
      ],
      "metadata": {
        "id": "m12HgXX9DIvS"
      },
      "execution_count": null,
      "outputs": []
    },
    {
      "cell_type": "code",
      "source": [
        "gsocdata[gsocdata['name'] == 'CERN-HSF']"
      ],
      "metadata": {
        "id": "T1irfOuZDUNi"
      },
      "execution_count": null,
      "outputs": []
    },
    {
      "cell_type": "code",
      "source": [
        ""
      ],
      "metadata": {
        "id": "Nk1BWF6SJwt-"
      },
      "execution_count": null,
      "outputs": []
    }
  ]
}